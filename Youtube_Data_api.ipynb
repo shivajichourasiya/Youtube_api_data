{
 "cells": [
  {
   "cell_type": "code",
   "execution_count": null,
   "metadata": {},
   "outputs": [],
   "source": [
    "from googleapiclient.discovery import build\n",
    "import pandas as pd"
   ]
  },
  {
   "cell_type": "code",
   "execution_count": null,
   "metadata": {},
   "outputs": [],
   "source": [
    "api_Key = 'YOUR Keys go here'"
   ]
  },
  {
   "cell_type": "code",
   "execution_count": null,
   "metadata": {},
   "outputs": [],
   "source": [
    "youtube = build('youtube','v3',developerKey=api_Key)"
   ]
  },
  {
   "cell_type": "code",
   "execution_count": null,
   "metadata": {},
   "outputs": [],
   "source": [
    "YoutubeChannel_df = pd.read_excel(r'C:\\Users\\schoursi\\Desktop\\World\\Take Away\\Practice\\Social Media Index\\Youtube\\Youtube_Channel_Details.xlsx', keep_default_na = False)\n",
    "Youtubedata_df = pd.DataFrame(columns=['viewCount','subscriberCount','hiddenSubscriberCount','videoCount'])"
   ]
  },
  {
   "cell_type": "code",
   "execution_count": null,
   "metadata": {},
   "outputs": [],
   "source": [
    "def Username_request(Username):\n",
    "    if user_name in YoutubeChannel_df['UserId'].tolist():\n",
    "        request = youtube.channels().list(\n",
    "        part='statistics',\n",
    "        id = Username\n",
    "        )\n",
    "    \n",
    "    else:\n",
    "        request = youtube.channels().list(\n",
    "        part='statistics',\n",
    "        forUsername = Username\n",
    "        )\n",
    "    \n",
    "    response = request.execute()\n",
    "    \n",
    "    for item in response['items']:\n",
    "        datavalues = item['statistics']\n",
    "        YoutubeRaw_df = pd.DataFrame(datavalues,index=[Username])\n",
    "        return YoutubeRaw_df\n",
    "    \n",
    "    "
   ]
  },
  {
   "cell_type": "code",
   "execution_count": null,
   "metadata": {},
   "outputs": [],
   "source": [
    "for user_name in YoutubeChannel_df['Username']:\n",
    "    if user_name != '':\n",
    "        Output_Data = Username_request(user_name)\n",
    "        Youtubedata_df = Youtubedata_df.append(Output_Data)"
   ]
  },
  {
   "cell_type": "code",
   "execution_count": null,
   "metadata": {},
   "outputs": [],
   "source": []
  },
  {
   "cell_type": "code",
   "execution_count": null,
   "metadata": {},
   "outputs": [],
   "source": []
  }
 ],
 "metadata": {
  "kernelspec": {
   "display_name": "Python 3",
   "language": "python",
   "name": "python3"
  },
  "language_info": {
   "codemirror_mode": {
    "name": "ipython",
    "version": 3
   },
   "file_extension": ".py",
   "mimetype": "text/x-python",
   "name": "python",
   "nbconvert_exporter": "python",
   "pygments_lexer": "ipython3",
   "version": "3.8.5"
  }
 },
 "nbformat": 4,
 "nbformat_minor": 4
}
